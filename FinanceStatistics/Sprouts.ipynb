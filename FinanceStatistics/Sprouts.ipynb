{
 "cells": [
  {
   "cell_type": "code",
   "execution_count": 133,
   "metadata": {},
   "outputs": [],
   "source": [
    "import pandas as pd\n",
    "import numpy as np\n",
    "from datetime import datetime\n"
   ]
  },
  {
   "cell_type": "code",
   "execution_count": 134,
   "metadata": {},
   "outputs": [],
   "source": [
    "K_PROJECT = 'Project'\n",
    "K_ACCOUNT = 'Account'\n",
    "K_PAYMENT_ACCOUNT = 'Payment account'\n",
    "K_MERCHANT = 'Merchant'\n",
    "K_ADDRESS = 'Address'\n",
    "K_NOTE = 'Note'\n",
    "K_TAGS = 'Tags'\n",
    "K_AUTHOR = 'Author'\n",
    "K_IMAGE1 = 'Image 1'\n",
    "K_IMAGE2 = 'Image 2'\n",
    "K_IMAGE3 = 'Image 3'\n",
    "K_DATETIME = 'Date time'\n",
    "K_TYPE = 'Type'\n",
    "K_CATEGORY = 'Category'\n",
    "K_EXPENSE = 'Expense'\n",
    "K_INCOME = 'Income'\n",
    "K_TRANSFER = 'Transfer'\n",
    "K_INVESTING = 'Investing'\n",
    "K_MONTH = 'Month'\n",
    "K_AMOUNT = 'Amount'\n"
   ]
  },
  {
   "cell_type": "code",
   "execution_count": 135,
   "metadata": {},
   "outputs": [],
   "source": [
    "def parseDatetime(x: str):\n",
    "    rus = {\"янв\": \"jan\",\n",
    "           \"февр\": \"feb\", \"фев\": \"feb\",\n",
    "           \"мар\": \"mar\",\n",
    "           \"апр\": \"apr\",\n",
    "           \"май\": \"may\", \"мая\": \"may\",\n",
    "           \"июн\": \"jun\",\n",
    "           \"июл\": \"jul\",\n",
    "           \"авг\": \"aug\",\n",
    "           \"сент\": \"sep\", \"сен\": \"sep\",\n",
    "           \"окт\": \"oct\",\n",
    "           \"нояб\": \"nov\", \"ноя\": \"nov\",\n",
    "           \"дек\": \"dec\",\n",
    "           \"г. \": \"\", \n",
    "           \".\": \"\"}\n",
    "    for r, e in rus.items():\n",
    "        x = x.lower().replace(r, e)\n",
    "    try:\n",
    "        dt = datetime.strptime(x.lower(), u'%d %b %Y %H:%M:%S')\n",
    "    except:\n",
    "        dt = datetime.strptime(x.lower(), u'%d%m%Y %H:%M:%S')\n",
    "    return dt\n"
   ]
  },
  {
   "cell_type": "code",
   "execution_count": 136,
   "metadata": {},
   "outputs": [],
   "source": [
    "df = pd.read_csv(\"data/test.csv\", on_bad_lines=\"warn\", sep=\"\\t\")\n",
    "df = df.drop(columns=[K_PROJECT, K_ACCOUNT, K_PAYMENT_ACCOUNT, K_MERCHANT,\n",
    "                      K_ADDRESS, K_NOTE, K_TAGS, K_AUTHOR, \n",
    "                      K_IMAGE1, K_IMAGE2, K_IMAGE3])\n",
    "df[K_DATETIME] = df[K_DATETIME].apply(lambda x: parseDatetime(x))\n",
    "df[K_DATETIME] = pd.to_datetime(df[K_DATETIME]).astype(np.int64)\n",
    "df[K_DATETIME] = df[K_DATETIME].apply(lambda x: x/1000000000)\n",
    "df[K_AMOUNT] = df[K_AMOUNT].apply(lambda x: x.replace(u\"\\u00A0\", '').replace(',','.'))\n",
    "df[K_AMOUNT] = df[K_AMOUNT].astype(float)\n"
   ]
  },
  {
   "cell_type": "code",
   "execution_count": 137,
   "metadata": {},
   "outputs": [],
   "source": [
    "start_date = datetime.fromtimestamp(df[K_DATETIME].min())\n",
    "end_date = datetime.fromtimestamp(df[K_DATETIME].max())\n",
    "\n",
    "month_list = pd.period_range(start=start_date, end=end_date, freq='M')\n",
    "month_list = [month.strftime(\"%m-%Y\") for month in month_list]\n"
   ]
  },
  {
   "cell_type": "code",
   "execution_count": 138,
   "metadata": {},
   "outputs": [],
   "source": [
    "expense = df[df[K_TYPE] == K_EXPENSE]\n",
    "income = df[df[K_TYPE] == K_INCOME]\n",
    "invest = df[(df[K_TYPE] == K_TRANSFER) & (df[K_CATEGORY] == K_INVESTING)]\n",
    "\n"
   ]
  },
  {
   "cell_type": "code",
   "execution_count": 139,
   "metadata": {},
   "outputs": [],
   "source": [
    "def transformByCat(data:pd.DataFrame):\n",
    "    unique_cats = data[K_CATEGORY].unique()\n",
    "    data_by_cat = pd.DataFrame(columns=unique_cats)\n",
    "    data_by_cat[K_MONTH] = month_list\n",
    "    data_by_cat = data_by_cat.set_index(K_MONTH)\n",
    "\n",
    "    for col in data_by_cat.columns:\n",
    "        data_by_cat[col].values[:] = 0\n",
    "\n",
    "    for index, row in data.iterrows():\n",
    "        date = datetime.fromtimestamp(row[K_DATETIME])\n",
    "        month = date.strftime(\"%m-%Y\")\n",
    "        cat = row[K_CATEGORY]\n",
    "        value = row[K_AMOUNT]\n",
    "        data_by_cat.loc[data_by_cat.index == month, cat] += abs(value)\n",
    "\n",
    "    return data_by_cat\n",
    "\n"
   ]
  }
 ],
 "metadata": {
  "kernelspec": {
   "display_name": "Python 3",
   "language": "python",
   "name": "python3"
  },
  "language_info": {
   "codemirror_mode": {
    "name": "ipython",
    "version": 3
   },
   "file_extension": ".py",
   "mimetype": "text/x-python",
   "name": "python",
   "nbconvert_exporter": "python",
   "pygments_lexer": "ipython3",
   "version": "3.11.2"
  },
  "orig_nbformat": 4
 },
 "nbformat": 4,
 "nbformat_minor": 2
}
