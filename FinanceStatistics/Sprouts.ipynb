{
 "cells": [
  {
   "cell_type": "code",
   "execution_count": 69,
   "metadata": {},
   "outputs": [],
   "source": [
    "import pandas as pd\n",
    "import datetime\n"
   ]
  },
  {
   "cell_type": "code",
   "execution_count": 70,
   "metadata": {},
   "outputs": [],
   "source": [
    "def parseDatetime(x: str):\n",
    "    rus = {\"янв\": \"jan\",\n",
    "           \"февр\": \"feb\", \"фев\": \"feb\",\n",
    "           \"мар\": \"mar\",\n",
    "           \"апр\": \"apr\",\n",
    "           \"май\": \"may\", \"мая\": \"may\",\n",
    "           \"июн\": \"jun\",\n",
    "           \"июл\": \"jul\",\n",
    "           \"авг\": \"aug\",\n",
    "           \"сент\": \"sep\", \"сен\": \"sep\",\n",
    "           \"окт\": \"oct\",\n",
    "           \"нояб\": \"nov\", \"ноя\": \"nov\",\n",
    "           \"дек\": \"dec\",\n",
    "           \"г. \": \"\", \n",
    "           \".\": \"\"}\n",
    "    for r, e in rus.items():\n",
    "        x = x.lower().replace(r, e)\n",
    "    try:\n",
    "        dt = datetime.datetime.strptime(x.lower(), u'%d %b %Y %H:%M:%S')\n",
    "    except:\n",
    "        dt = datetime.datetime.strptime(x.lower(), u'%d%m%Y %H:%M:%S')\n",
    "    return dt\n"
   ]
  },
  {
   "cell_type": "code",
   "execution_count": 71,
   "metadata": {},
   "outputs": [],
   "source": [
    "df = pd.read_csv(\"data/test.csv\", on_bad_lines=\"warn\", sep=\"\\t\")\n",
    "df = df.drop(columns=['Project', 'Account',\n",
    "             'Payment account', 'Merchant', \n",
    "                      'Address', 'Note', 'Tags', 'Author', 'Image 1', 'Image 2',\n",
    "                      'Image 3'])\n",
    "df['Date time'] = df['Date time'].apply(lambda x: parseDatetime(x))\n",
    "\n"
   ]
  },
  {
   "cell_type": "code",
   "execution_count": 72,
   "metadata": {},
   "outputs": [],
   "source": [
    "expense = df[df[\"Type\"] == \"Expense\"]\n",
    "income = df[df[\"Type\"] == \"Income\"]\n",
    "invest = df[(df[\"Type\"] == \"Transfer\") & (df[\"Category\"] == \"Investing\")]\n",
    "\n"
   ]
  },
  {
   "cell_type": "code",
   "execution_count": null,
   "metadata": {},
   "outputs": [],
   "source": []
  }
 ],
 "metadata": {
  "kernelspec": {
   "display_name": "Python 3",
   "language": "python",
   "name": "python3"
  },
  "language_info": {
   "codemirror_mode": {
    "name": "ipython",
    "version": 3
   },
   "file_extension": ".py",
   "mimetype": "text/x-python",
   "name": "python",
   "nbconvert_exporter": "python",
   "pygments_lexer": "ipython3",
   "version": "3.11.2"
  },
  "orig_nbformat": 4
 },
 "nbformat": 4,
 "nbformat_minor": 2
}
