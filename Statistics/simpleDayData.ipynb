{
 "cells": [
  {
   "cell_type": "code",
   "execution_count": null,
   "metadata": {},
   "outputs": [],
   "source": [
    "import pandas as pd\n",
    "import matplotlib.pyplot as plt\n",
    "import matplotlib as mpl\n",
    "import openfilegui\n",
    "import calmap\n"
   ]
  },
  {
   "cell_type": "code",
   "execution_count": null,
   "metadata": {},
   "outputs": [],
   "source": [
    "greens = [\"#ebedf0\", \"#9be9a8\", \"#40c463\", \"#30a14e\", \"#216e39\"]\n",
    "green_palette = mpl.colors.LinearSegmentedColormap.from_list(\n",
    "    \"green_palette\", greens, len(greens))\n",
    "\n",
    "yellows = [\"#ebedf0\", \"#ffd900\", \"#ff4d00\", \"#000000\"]\n",
    "yellow_palette = mpl.colors.LinearSegmentedColormap.from_list(\n",
    "    \"yellow_palette\", yellows, len(yellows))\n"
   ]
  },
  {
   "cell_type": "code",
   "execution_count": null,
   "metadata": {},
   "outputs": [],
   "source": [
    "file = openfilegui.gui_fname(\"./data/\").decode()\n"
   ]
  },
  {
   "cell_type": "code",
   "execution_count": null,
   "metadata": {},
   "outputs": [],
   "source": [
    "df = pd.read_csv(file)\n",
    "df['Date'] = pd.to_datetime(df['Date'], format=\"%d.%m.%y\")\n",
    "df = df.set_index('Date')\n"
   ]
  },
  {
   "cell_type": "code",
   "execution_count": null,
   "metadata": {},
   "outputs": [],
   "source": [
    "plt.figure(figsize=(20, 10))\n",
    "calmap.yearplot(df['Level'], cmap=yellow_palette, daylabels='MTWTFSS', dayticks=[0, 2, 4, 6],\n",
    "                linewidth=2.5)\n"
   ]
  }
 ],
 "metadata": {
  "kernelspec": {
   "display_name": "Python 3",
   "language": "python",
   "name": "python3"
  },
  "language_info": {
   "codemirror_mode": {
    "name": "ipython",
    "version": 3
   },
   "file_extension": ".py",
   "mimetype": "text/x-python",
   "name": "python",
   "nbconvert_exporter": "python",
   "pygments_lexer": "ipython3",
   "version": "3.11.2"
  },
  "orig_nbformat": 4
 },
 "nbformat": 4,
 "nbformat_minor": 2
}
