{
 "cells": [
  {
   "cell_type": "code",
   "execution_count": null,
   "metadata": {},
   "outputs": [],
   "source": [
    "import pandas as pd\n",
    "import matplotlib.pyplot as plt\n",
    "import matplotlib as mpl\n",
    "import openfilegui\n",
    "import calmap\n"
   ]
  },
  {
   "cell_type": "code",
   "execution_count": null,
   "metadata": {},
   "outputs": [],
   "source": [
    "file = openfilegui.gui_fname(\"./data/\").decode()"
   ]
  },
  {
   "cell_type": "code",
   "execution_count": null,
   "metadata": {},
   "outputs": [],
   "source": [
    "greens = [\"#ebedf0\", \"#9be9a8\", \"#40c463\", \"#30a14e\", \"#216e39\"]\n",
    "green_palette = mpl.colors.LinearSegmentedColormap.from_list(\n",
    "    \"green_palette\", greens, len(greens))\n",
    "\n",
    "yellows3 = [\"#ebedf0\", \"#ffd900\", \"#ff4d00\", \"#000000\"]\n",
    "yellow_palette3 = mpl.colors.LinearSegmentedColormap.from_list(\n",
    "    \"yellow_palette3\", yellows3, len(yellows3))\n",
    "\n",
    "yellows2 = [\"#ebedf0\", \"#ffd900\", \"#ff4d00\"]\n",
    "yellow_palette2 = mpl.colors.LinearSegmentedColormap.from_list(\n",
    "    \"yellow_palette2\", yellows2, len(yellows2))\n"
   ]
  },
  {
   "cell_type": "code",
   "execution_count": null,
   "metadata": {},
   "outputs": [],
   "source": [
    "cmap = green_palette"
   ]
  },
  {
   "cell_type": "code",
   "execution_count": null,
   "metadata": {},
   "outputs": [],
   "source": [
    "df = pd.read_csv(file)\n",
    "try:\n",
    "    df['Date'] = pd.to_datetime(df['Date'], format=\"%d.%m.%y\")\n",
    "except:\n",
    "    df['Date'] = pd.to_datetime(df['Date'], format=\"%m.%d.%y\")\n",
    "df = df.set_index('Date')"
   ]
  },
  {
   "cell_type": "code",
   "execution_count": null,
   "metadata": {},
   "outputs": [],
   "source": [
    "def plot(col):\n",
    "    plt.figure(figsize=(20, 10))\n",
    "    max_level = df[col].max()\n",
    "    ax = calmap.yearplot(df[col], cmap=cmap, daylabels='MTWTFSS', dayticks=[0, 2, 4, 6],\n",
    "                    linewidth=2.5)\n",
    "    plt.title(col, fontsize = 36)\n"
   ]
  },
  {
   "cell_type": "code",
   "execution_count": null,
   "metadata": {},
   "outputs": [],
   "source": [
    "for col in df.columns:\n",
    "    plot(col)"
   ]
  }
 ],
 "metadata": {
  "kernelspec": {
   "display_name": "Python 3",
   "language": "python",
   "name": "python3"
  },
  "language_info": {
   "codemirror_mode": {
    "name": "ipython",
    "version": 3
   },
   "file_extension": ".py",
   "mimetype": "text/x-python",
   "name": "python",
   "nbconvert_exporter": "python",
   "pygments_lexer": "ipython3",
   "version": "3.9.0"
  },
  "orig_nbformat": 4
 },
 "nbformat": 4,
 "nbformat_minor": 2
}
