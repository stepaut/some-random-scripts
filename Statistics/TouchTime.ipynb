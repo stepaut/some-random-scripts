{
 "cells": [
  {
   "cell_type": "code",
   "execution_count": null,
   "metadata": {},
   "outputs": [],
   "source": [
    "import numpy as np\n",
    "import pandas as pd\n",
    "from datetime import datetime\n",
    "import os\n",
    "import matplotlib.pyplot as plt\n",
    "import matplotlib as mpl\n",
    "import openfilegui\n"
   ]
  },
  {
   "cell_type": "code",
   "execution_count": null,
   "metadata": {},
   "outputs": [],
   "source": [
    "file = openfilegui.gui_fname(\"./data/\").decode()\n"
   ]
  },
  {
   "cell_type": "code",
   "execution_count": null,
   "metadata": {},
   "outputs": [],
   "source": [
    "df = pd.read_csv(file)\n",
    "df['Start'] = pd.to_datetime(df['Start'])\n",
    "df['End'] = pd.to_datetime(df['End'])\n",
    "df = df.loc[:, ~df.columns.str.contains('^Unnamed')]  # удалаяем битые столбцы\n",
    "df['Total'] = ((df['End']-df['Start']).dt.total_seconds() / 60).astype(int)\n"
   ]
  },
  {
   "cell_type": "code",
   "execution_count": null,
   "metadata": {},
   "outputs": [],
   "source": [
    "activities = df.Activity.unique()\n",
    "\n",
    "# first_year = df.Start.min().year\n",
    "# last_year = df.End.max().year\n",
    "\n",
    "# for year in range(first_year, last_year + 1):\n",
    "year = 2023\n",
    "\n",
    "weeks = range(1, 54)\n",
    "dfy = pd.DataFrame(0, index=np.arange(len(weeks)),\n",
    "                   columns=np.hstack(['week', activities]))\n",
    "dfy['week'] = weeks\n",
    "dfy = dfy.set_index('week')\n",
    "\n",
    "for index, row in df.iterrows():\n",
    "    if (row.Start.year > year):\n",
    "        continue\n",
    "    if (row.Start.year < year):\n",
    "        break\n",
    "\n",
    "    dfy[row.Activity].iloc[row.Start.week - 1] += row.Total\n",
    "\n",
    "dfy = dfy.loc[:, (dfy != 0).any(axis=0)]  # удаляем столбцы, в которых все нули\n",
    "dfy.iloc[:, :] = dfy.iloc[:, :].div(60, axis=0) # minutes to hours\n"
   ]
  },
  {
   "cell_type": "code",
   "execution_count": null,
   "metadata": {},
   "outputs": [],
   "source": [
    "# import altair as alt\n",
    "# mask = (df['Start'] > '2023-1-1') & (df['End'] <= '2024-1-1')\n",
    "# df1 = df.loc[mask]\n",
    "# alt.Chart(df1).mark_bar().encode(\n",
    "#     x='Start',\n",
    "#     x2='End',\n",
    "#     y='Activity',\n",
    "#     color=alt.Color('Activity', scale=alt.Scale(scheme='dark2'))\n",
    "# ).properties(\n",
    "#     width=600,\n",
    "#     height=300\n",
    "# )\n"
   ]
  },
  {
   "cell_type": "code",
   "execution_count": null,
   "metadata": {},
   "outputs": [],
   "source": [
    "cdf = pd.read_csv('data/colors.txt')\n",
    "color_dict = dict(cdf.values)\n"
   ]
  },
  {
   "cell_type": "code",
   "execution_count": null,
   "metadata": {},
   "outputs": [],
   "source": [
    "colors = []\n",
    "for c in dfy.columns:\n",
    "    if c in color_dict:\n",
    "        colors.append(color_dict[c])\n",
    "    else:\n",
    "        #colors.append(\"orange\")\n",
    "        dfy.drop(columns=[c], inplace=True)\n",
    "        print(f\"Dropped {c} column!\")\n",
    "        "
   ]
  },
  {
   "cell_type": "code",
   "execution_count": null,
   "metadata": {},
   "outputs": [],
   "source": [
    "dfy.plot(kind='area', stacked=False, figsize=(20, 10), color=colors, linewidth=0)\n",
    "plt.title(year)\n",
    "plt.ylabel('min')\n",
    "plt.xlabel('week')\n",
    "plt.show()\n"
   ]
  },
  {
   "cell_type": "code",
   "execution_count": null,
   "metadata": {},
   "outputs": [],
   "source": [
    "# os.makedirs('data', exist_ok=True)\n",
    "# dfy.to_csv('data/' + str(year) + '.csv', index=False)\n"
   ]
  }
 ],
 "metadata": {
  "kernelspec": {
   "display_name": "Python 3",
   "language": "python",
   "name": "python3"
  },
  "language_info": {
   "codemirror_mode": {
    "name": "ipython",
    "version": 3
   },
   "file_extension": ".py",
   "mimetype": "text/x-python",
   "name": "python",
   "nbconvert_exporter": "python",
   "pygments_lexer": "ipython3",
   "version": "3.11.2"
  },
  "orig_nbformat": 4
 },
 "nbformat": 4,
 "nbformat_minor": 2
}
