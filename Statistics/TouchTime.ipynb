{
 "cells": [
  {
   "cell_type": "code",
   "execution_count": null,
   "metadata": {},
   "outputs": [],
   "source": [
    "import numpy as np\n",
    "import pandas as pd\n",
    "from datetime import datetime\n",
    "import os\n",
    "import matplotlib.pyplot as plt\n",
    "import matplotlib as mpl\n",
    "import openfilegui\n"
   ]
  },
  {
   "cell_type": "code",
   "execution_count": null,
   "metadata": {},
   "outputs": [],
   "source": [
    "file = openfilegui.gui_fname(\"\").decode()\n"
   ]
  },
  {
   "cell_type": "code",
   "execution_count": null,
   "metadata": {},
   "outputs": [],
   "source": [
    "df = pd.read_csv(file)\n",
    "df['Start'] = pd.to_datetime(df['Start'])\n",
    "df['End'] = pd.to_datetime(df['End'])\n",
    "df = df.loc[:, ~df.columns.str.contains('^Unnamed')]  # удалаяем битые столбцы\n",
    "df['Total'] = ((df['End']-df['Start']).dt.total_seconds() / 60).astype(int)\n",
    "\n",
    "activities = df.Activity.unique()\n",
    "\n",
    "first_year = df.Start.min().year\n",
    "last_year = df.End.max().year\n",
    "\n",
    "cdf = pd.read_csv('data/colors.txt')\n",
    "color_dict = dict(cdf.values)"
   ]
  },
  {
   "cell_type": "code",
   "execution_count": null,
   "metadata": {},
   "outputs": [],
   "source": [
    "def get_by_week(year):\n",
    "    weeks = range(1, 54)\n",
    "    dfy = pd.DataFrame(0, index=np.arange(len(weeks)),\n",
    "                    columns=np.hstack(['week', activities]))\n",
    "    dfy['week'] = weeks\n",
    "    dfy = dfy.set_index('week')\n",
    "\n",
    "    for index, row in df.iterrows():\n",
    "        if (row.Start.year > year):\n",
    "            continue\n",
    "        if (row.Start.year < year):\n",
    "            break\n",
    "\n",
    "        dfy[row.Activity].iloc[row.Start.week - 1] += row.Total\n",
    "\n",
    "    dfy = dfy.loc[:, (dfy != 0).any(axis=0)]  # удаляем столбцы, в которых все нули\n",
    "    dfy.iloc[:, :] = dfy.iloc[:, :].div(60, axis=0) # minutes to hours\n",
    "\n",
    "    colors = []\n",
    "\n",
    "    for c in dfy.columns:\n",
    "        if c in color_dict:\n",
    "            colors.append(color_dict[c])\n",
    "        else:\n",
    "            # colors.append(\"orange\")\n",
    "            dfy.drop(columns=[c], inplace=True)\n",
    "            # print(f\"Dropped {c} column!\")\n",
    "\n",
    "    # os.makedirs('data', exist_ok=True)\n",
    "    # dfy.to_csv('data/' + str(year) + '.csv', index=False)\n",
    "\n",
    "    return dfy, colors"
   ]
  },
  {
   "cell_type": "code",
   "execution_count": null,
   "metadata": {},
   "outputs": [],
   "source": [
    "def get_by_month(year):\n",
    "    months = range(1, 13)\n",
    "    dfy = pd.DataFrame(0, index=np.arange(len(months)),\n",
    "                       columns=np.hstack(['month', activities]))\n",
    "    dfy['month'] = months\n",
    "    dfy = dfy.set_index('month')\n",
    "\n",
    "    for index, row in df.iterrows():\n",
    "        if (row.Start.year > year):\n",
    "            continue\n",
    "        if (row.Start.year < year):\n",
    "            break\n",
    "        dfy[row.Activity].iloc[row.Start.month - 1] += row.Total\n",
    "\n",
    "    # удаляем столбцы, в которых все нули\n",
    "    dfy = dfy.loc[:, (dfy != 0).any(axis=0)]\n",
    "    dfy.iloc[:, :] = dfy.iloc[:, :].div(60, axis=0)  # minutes to hours\n",
    "\n",
    "    colors = []\n",
    "\n",
    "    for c in dfy.columns:\n",
    "        if c in color_dict:\n",
    "            colors.append(color_dict[c])\n",
    "        else:\n",
    "            dfy.drop(columns=[c], inplace=True)\n",
    "\n",
    "    return dfy, colors"
   ]
  },
  {
   "cell_type": "code",
   "execution_count": null,
   "metadata": {},
   "outputs": [],
   "source": [
    "def get_by_month_for_all():\n",
    "    years = []\n",
    "    months = []\n",
    "\n",
    "    for year in range(first_year, last_year + 1):\n",
    "        for month in range(1, 13):\n",
    "            years.append(year)\n",
    "            months.append(month)\n",
    "\n",
    "    data = {'year': years, 'month': months}\n",
    "\n",
    "    dfy = pd.DataFrame(data, columns=np.hstack(['year', 'month', activities]))\n",
    "    dfy.fillna(0, inplace=True)\n",
    "\n",
    "    for index, row in df.iterrows():\n",
    "        # dfy.loc[:, ((dfy['year'] == row.Start.year) & (\n",
    "        #     dfy['month'] == row.Start.month - 1), row.Activity)] += row.Total\n",
    "        i = (row.Start.year - first_year) * 12 + row.Start.month - 1\n",
    "        dfy.at[i, row.Activity] += row.Total\n",
    "\n",
    "    # dfy['ni'] = dfy['year'] + '-' + dfy['month']\n",
    "    # dfy = dfy.assign(ni=lambda x: x.year + '-' + x.month)\n",
    "    dfy['year'] = dfy['year'].astype('str')\n",
    "    dfy['month'] = dfy['month'].astype('str')\n",
    "    dfy['ni'] = dfy[['year', 'month']].agg('-'.join, axis=1)\n",
    "    dfy = dfy.set_index('ni')\n",
    "\n",
    "    # удаляем столбцы, в которых все нули\n",
    "    dfy = dfy.loc[:, (dfy != 0).any(axis=0)]\n",
    "\n",
    "    colors = []\n",
    "    for c in dfy.columns:\n",
    "        if c in color_dict:\n",
    "            colors.append(color_dict[c])\n",
    "        else:\n",
    "            dfy.drop(columns=[c], inplace=True)\n",
    "\n",
    "    # удаляем строки, в которых все нули\n",
    "    dfy = dfy.loc[~(dfy == 0).all(axis=1)]\n",
    "\n",
    "    # minutes to hours\n",
    "    dfy.iloc[:, :] = dfy.iloc[:, :].div(60, axis=0)\n",
    "\n",
    "\n",
    "    return dfy, colors\n"
   ]
  },
  {
   "cell_type": "code",
   "execution_count": null,
   "metadata": {},
   "outputs": [],
   "source": [
    "for year in range(first_year, last_year + 1):\n",
    "    dfy, colors = get_by_week(year)\n",
    "    dfy.plot(kind='area', stacked=False, figsize=(\n",
    "        20, 10), color=colors, linewidth=0)\n",
    "    plt.title(year)\n",
    "    plt.ylabel('hours')\n",
    "    plt.xlabel('week')\n",
    "    plt.show()"
   ]
  },
  {
   "cell_type": "code",
   "execution_count": null,
   "metadata": {},
   "outputs": [],
   "source": [
    "for year in range(first_year, last_year + 1):\n",
    "    dfy, colors = get_by_month(year)\n",
    "    dfy.plot(kind='area', stacked=False, figsize=(\n",
    "        20, 10), color=colors, linewidth=0)\n",
    "    plt.title(year)\n",
    "    plt.ylabel('hours')\n",
    "    plt.xlabel('month')\n",
    "    plt.show()"
   ]
  },
  {
   "cell_type": "code",
   "execution_count": null,
   "metadata": {},
   "outputs": [],
   "source": [
    "dfy, colors = get_by_month_for_all()\n",
    "dfy.plot(kind='area', stacked=False, figsize=(\n",
    "    20, 10), color=colors, linewidth=0)\n",
    "plt.title('all')\n",
    "plt.ylabel('hours')\n",
    "plt.xlabel('month')\n",
    "plt.show()"
   ]
  },
  {
   "cell_type": "code",
   "execution_count": null,
   "metadata": {},
   "outputs": [],
   "source": [
    "dfy, colors = get_by_month_for_all()\n",
    "dfy.plot(kind='area', stacked=True, figsize=(\n",
    "    20, 10), color=colors, linewidth=0)\n",
    "plt.title('all')\n",
    "plt.ylabel('hours')\n",
    "plt.xlabel('month')\n",
    "plt.show()"
   ]
  }
 ],
 "metadata": {
  "kernelspec": {
   "display_name": "Python 3",
   "language": "python",
   "name": "python3"
  },
  "language_info": {
   "codemirror_mode": {
    "name": "ipython",
    "version": 3
   },
   "file_extension": ".py",
   "mimetype": "text/x-python",
   "name": "python",
   "nbconvert_exporter": "python",
   "pygments_lexer": "ipython3",
   "version": "3.11.2"
  },
  "orig_nbformat": 4
 },
 "nbformat": 4,
 "nbformat_minor": 2
}
