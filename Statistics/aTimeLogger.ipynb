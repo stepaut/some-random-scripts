{
 "cells": [
  {
   "cell_type": "code",
   "execution_count": null,
   "metadata": {},
   "outputs": [],
   "source": [
    "import pandas as pd\n",
    "import numpy as np\n",
    "from datetime import datetime\n",
    "import openfilegui\n",
    "import matplotlib.pyplot as plt\n",
    "import matplotlib.dates as mdates\n",
    "from matplotlib.collections import PolyCollection\n",
    "import altair as alt\n"
   ]
  },
  {
   "cell_type": "code",
   "execution_count": null,
   "metadata": {},
   "outputs": [],
   "source": [
    "K_TYPE = 'Тип'\n",
    "K_TIME = 'Продолжительность'\n",
    "K_BEGIN = 'Начало'\n",
    "K_END = 'Конец'\n"
   ]
  },
  {
   "cell_type": "code",
   "execution_count": null,
   "metadata": {},
   "outputs": [],
   "source": [
    "file = openfilegui.gui_fname(\"./data/\").decode()\n"
   ]
  },
  {
   "cell_type": "code",
   "execution_count": null,
   "metadata": {},
   "outputs": [],
   "source": [
    "def timeToDay(x:str, morning:bool):\n",
    "    dt = datetime.strptime(x.lower(), u'%Y-%m-%d %H:%M')\n",
    "    if morning:\n",
    "        dt = dt.replace(hour=0, minute=0)\n",
    "    else:\n",
    "        dt = dt.replace(hour=23, minute=59)\n",
    "    return dt"
   ]
  },
  {
   "cell_type": "code",
   "execution_count": null,
   "metadata": {},
   "outputs": [],
   "source": [
    "df = pd.read_csv(file, on_bad_lines=\"warn\", sep=\",\")\n",
    "# df[K_BEGIN] = pd.to_datetime(df[K_BEGIN])\n",
    "# df[K_END] = pd.to_datetime(df[K_END])\n",
    "df[K_BEGIN] = df[K_BEGIN].apply(lambda x: timeToDay(x, True))\n",
    "df[K_END] = df[K_END].apply(lambda x: timeToDay(x, False))\n"
   ]
  },
  {
   "cell_type": "code",
   "execution_count": null,
   "metadata": {},
   "outputs": [],
   "source": [
    "alt.Chart(df).mark_bar().encode(\n",
    "    x=K_BEGIN,\n",
    "    x2=K_END,\n",
    "    y=K_TYPE,\n",
    "    color=alt.Color(K_TYPE, scale=alt.Scale(scheme='dark2'))\n",
    ").properties(\n",
    "    width=600,\n",
    "    height=300\n",
    ")\n"
   ]
  }
 ],
 "metadata": {
  "kernelspec": {
   "display_name": "Python 3",
   "language": "python",
   "name": "python3"
  },
  "language_info": {
   "codemirror_mode": {
    "name": "ipython",
    "version": 3
   },
   "file_extension": ".py",
   "mimetype": "text/x-python",
   "name": "python",
   "nbconvert_exporter": "python",
   "pygments_lexer": "ipython3",
   "version": "3.11.2"
  }
 },
 "nbformat": 4,
 "nbformat_minor": 2
}
