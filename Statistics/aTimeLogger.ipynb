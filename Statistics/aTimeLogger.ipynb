{
 "cells": [
  {
   "cell_type": "code",
   "execution_count": null,
   "metadata": {},
   "outputs": [],
   "source": [
    "import pandas as pd\n",
    "import numpy as np\n",
    "from datetime import datetime\n",
    "import openfilegui\n",
    "import matplotlib.pyplot as plt\n",
    "import matplotlib.dates as mdates\n",
    "from matplotlib.collections import PolyCollection\n",
    "import altair as alt\n"
   ]
  },
  {
   "cell_type": "code",
   "execution_count": null,
   "metadata": {},
   "outputs": [],
   "source": [
    "K_TYPE = 'Тип'\n",
    "K_TIME = 'Продолжительность'\n",
    "K_BEGIN = 'Начало'\n",
    "K_END = 'Конец'\n"
   ]
  },
  {
   "cell_type": "code",
   "execution_count": null,
   "metadata": {},
   "outputs": [],
   "source": [
    "file = openfilegui.gui_fname(\"./data/\").decode()\n"
   ]
  },
  {
   "cell_type": "code",
   "execution_count": null,
   "metadata": {},
   "outputs": [],
   "source": [
    "df = pd.read_csv(file, on_bad_lines=\"warn\", sep=\",\")\n",
    "df[K_BEGIN] = pd.to_datetime(df[K_BEGIN])\n",
    "df[K_END] = pd.to_datetime(df[K_END])\n"
   ]
  },
  {
   "cell_type": "code",
   "execution_count": null,
   "metadata": {},
   "outputs": [],
   "source": [
    "alt.Chart(df).mark_bar().encode(\n",
    "    x=K_BEGIN,\n",
    "    x2=K_END,\n",
    "    y=K_TYPE,\n",
    "    color=alt.Color(K_TYPE, scale=alt.Scale(scheme='dark2'))\n",
    ").properties(\n",
    "    width=600,\n",
    "    height=300\n",
    ")\n"
   ]
  }
 ],
 "metadata": {
  "kernelspec": {
   "display_name": "Python 3",
   "language": "python",
   "name": "python3"
  },
  "language_info": {
   "codemirror_mode": {
    "name": "ipython",
    "version": 3
   },
   "file_extension": ".py",
   "mimetype": "text/x-python",
   "name": "python",
   "nbconvert_exporter": "python",
   "pygments_lexer": "ipython3",
   "version": "3.11.2"
  }
 },
 "nbformat": 4,
 "nbformat_minor": 2
}
