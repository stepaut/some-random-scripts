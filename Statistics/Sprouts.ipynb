{
 "cells": [
  {
   "cell_type": "code",
   "execution_count": null,
   "metadata": {},
   "outputs": [],
   "source": [
    "import pandas as pd\n",
    "import numpy as np\n",
    "from datetime import datetime\n",
    "import openfilegui\n",
    "import matplotlib.pyplot as plt\n"
   ]
  },
  {
   "cell_type": "code",
   "execution_count": null,
   "metadata": {},
   "outputs": [],
   "source": [
    "K_PROJECT = 'Project'\n",
    "K_ACCOUNT = 'Account'\n",
    "K_PAYMENT_ACCOUNT = 'Payment account'\n",
    "K_MERCHANT = 'Merchant'\n",
    "K_ADDRESS = 'Address'\n",
    "K_NOTE = 'Note'\n",
    "K_TAGS = 'Tags'\n",
    "K_AUTHOR = 'Author'\n",
    "K_IMAGE1 = 'Image 1'\n",
    "K_IMAGE2 = 'Image 2'\n",
    "K_IMAGE3 = 'Image 3'\n",
    "K_DATETIME = 'Date time'\n",
    "K_TYPE = 'Type'\n",
    "K_CATEGORY = 'Category'\n",
    "K_EXPENSE = 'Expense'\n",
    "K_INCOME = 'Income'\n",
    "K_TRANSFER = 'Transfer'\n",
    "K_INVESTING = 'Investing'\n",
    "K_MONTH = 'Month'\n",
    "K_AMOUNT = 'Amount'\n",
    "K_TOTAL = 'Total'\n",
    "K_CURRENCY_RATE = 'Currency rate (Relative standard currency)'\n",
    "K_CURRENCY = 'Currency'\n",
    "K_INDEX = 'index'\n",
    "K_EXPENSE_SHARE = 'Expense share'\n",
    "K_ACCOUNT_RECEIVABLE = \"Account receivable\"\n",
    "K_INVESTING_SHARE = 'Investing share'\n",
    "K_OTHER = 'Other'\n",
    "K_TEMP = 'Temp'\n",
    "K_PARENT_CATEGORY = 'Parent Category'\n"
   ]
  },
  {
   "cell_type": "code",
   "execution_count": null,
   "metadata": {},
   "outputs": [],
   "source": [
    "def parseDatetime(x: str):\n",
    "    rus = {\"янв\": \"jan\",\n",
    "           \"февр\": \"feb\", \"фев\": \"feb\",\n",
    "           \"мар\": \"mar\",\n",
    "           \"апр\": \"apr\",\n",
    "           \"май\": \"may\", \"мая\": \"may\",\n",
    "           \"июн\": \"jun\",\n",
    "           \"июл\": \"jul\",\n",
    "           \"авг\": \"aug\",\n",
    "           \"сент\": \"sep\", \"сен\": \"sep\",\n",
    "           \"окт\": \"oct\",\n",
    "           \"нояб\": \"nov\", \"ноя\": \"nov\",\n",
    "           \"дек\": \"dec\",\n",
    "           \"г. \": \"\", \n",
    "           \".\": \"\"}\n",
    "    for r, e in rus.items():\n",
    "        x = x.lower().replace(r, e)\n",
    "    try:\n",
    "        dt = datetime.strptime(x.lower(), u'%d %b %Y %H:%M:%S')\n",
    "    except:\n",
    "        dt = datetime.strptime(x.lower(), u'%d%m%Y %H:%M:%S')\n",
    "    return dt\n"
   ]
  },
  {
   "cell_type": "code",
   "execution_count": null,
   "metadata": {},
   "outputs": [],
   "source": [
    "file = openfilegui.gui_fname(\"./data/\").decode()\n"
   ]
  },
  {
   "cell_type": "code",
   "execution_count": null,
   "metadata": {},
   "outputs": [],
   "source": [
    "df = pd.read_csv(file, on_bad_lines=\"warn\", sep=\"\\t\")\n",
    "df = df.drop(columns=[K_PROJECT, K_ACCOUNT, K_PAYMENT_ACCOUNT, K_MERCHANT,\n",
    "                      K_ADDRESS, K_NOTE, K_TAGS, K_AUTHOR,\n",
    "                      K_IMAGE1, K_IMAGE2, K_IMAGE3, K_CURRENCY])\n",
    "df[K_DATETIME] = df[K_DATETIME].apply(lambda x: parseDatetime(x))\n",
    "df[K_DATETIME] = pd.to_datetime(df[K_DATETIME]).astype(np.int64)\n",
    "df[K_DATETIME] = df[K_DATETIME].apply(lambda x: x/1000000000)\n",
    "df[K_AMOUNT] = df[K_AMOUNT].apply(\n",
    "    lambda x: x.replace(u\"\\u00A0\", '').replace(',', '.'))\n",
    "df[K_AMOUNT] = df[K_AMOUNT].astype(float)\n",
    "df[K_CURRENCY_RATE] = df[K_CURRENCY_RATE].apply(lambda x: x.replace(',', '.'))\n",
    "df[K_CURRENCY_RATE] = df[K_CURRENCY_RATE].astype(float)\n",
    "df[K_AMOUNT] = df[K_AMOUNT]*df[K_CURRENCY_RATE]\n",
    "df = df.drop(columns=[K_CURRENCY_RATE])\n"
   ]
  },
  {
   "cell_type": "code",
   "execution_count": null,
   "metadata": {},
   "outputs": [],
   "source": [
    "start_date = datetime.fromtimestamp(df[K_DATETIME].min())\n",
    "end_date = datetime.fromtimestamp(df[K_DATETIME].max())\n"
   ]
  },
  {
   "cell_type": "code",
   "execution_count": null,
   "metadata": {},
   "outputs": [],
   "source": [
    "expense_ = df[df[K_TYPE] == K_EXPENSE]\n",
    "income_ = df[df[K_TYPE] == K_INCOME]\n",
    "invest_ = df[(df[K_TYPE] == K_TRANSFER) & (df[K_CATEGORY] == K_INVESTING)]\n",
    "\n"
   ]
  },
  {
   "cell_type": "code",
   "execution_count": null,
   "metadata": {},
   "outputs": [],
   "source": [
    "def transformByCat(data:pd.DataFrame, level:str, col_name:str):\n",
    "    if level == \"M\":\n",
    "        date_mode = \"%m-%Y\"\n",
    "    elif level == \"Y\":\n",
    "        date_mode = \"%Y\"\n",
    "    elif level == \"Q\":\n",
    "        raise NotImplementedError() #TODO quarter\n",
    "    else:\n",
    "        raise Exception()\n",
    "\n",
    "    unique_cats = data[col_name].unique()\n",
    "    data_by_cat = pd.DataFrame(columns=unique_cats)\n",
    "\n",
    "    el_list = pd.period_range(start=start_date, end=end_date, freq=level)\n",
    "    el_list = [el.strftime(date_mode) for el in el_list]\n",
    "    data_by_cat[K_INDEX] = el_list\n",
    "    data_by_cat = data_by_cat.set_index(K_INDEX)\n",
    "\n",
    "    for col in data_by_cat.columns:\n",
    "        data_by_cat[col].values[:] = 0\n",
    "\n",
    "    for index, row in data.iterrows():\n",
    "        date = datetime.fromtimestamp(row[K_DATETIME])\n",
    "        el = date.strftime(date_mode)\n",
    "        cat = row[col_name]\n",
    "        value = row[K_AMOUNT]\n",
    "        data_by_cat.loc[data_by_cat.index == el, cat] += abs(value)\n",
    "\n",
    "    data_by_cat[K_TOTAL] = data_by_cat.sum(axis=1)\n",
    "\n",
    "    return data_by_cat\n",
    "\n",
    "def merge(expense:pd.DataFrame, income:pd.DataFrame, invest:pd.DataFrame):\n",
    "    result = pd.DataFrame(index=expense.index)\n",
    "    result[K_EXPENSE] = expense[K_TOTAL]\n",
    "    result[K_INCOME] = income[K_TOTAL]\n",
    "    result[K_INVESTING] = invest[K_TOTAL]\n",
    "    result[K_TOTAL] = result[K_INCOME] - result[K_EXPENSE] - result[K_INVESTING]\n",
    "    result[K_TOTAL] = result[K_TOTAL].cumsum()\n",
    "\n",
    "    result[K_EXPENSE_SHARE] = result[K_EXPENSE] / result[K_INCOME] * 100\n",
    "    result[K_INVESTING_SHARE] = result[K_INVESTING] / result[K_INCOME] * 100\n",
    "    return result\n",
    "\n",
    "\n",
    "def getDFForPie(data: pd.DataFrame, year: str, limit=5):\n",
    "    df = data.T.drop(index=K_TOTAL)\n",
    "    df = df[[year]]\n",
    "    df = df.loc[~(df == 0).all(axis=1)]\n",
    "    sum = df[year].sum()\n",
    "    if sum == 0:\n",
    "        return None\n",
    "    df[year] = df[year]/sum*100\n",
    "    df.loc[K_OTHER] = 0\n",
    "    df[K_TEMP] = False\n",
    "    for index, row in df.iterrows():\n",
    "        if row[year] < limit:\n",
    "            df.loc[K_OTHER, year] += row[year]\n",
    "            df.loc[index, K_TEMP] = True\n",
    "    df.loc[K_OTHER, K_TEMP] = False\n",
    "    df = df.drop(df[df[K_TEMP]].index)\n",
    "    df = df.drop(columns=K_TEMP)\n",
    "\n",
    "    return df\n",
    "\n",
    "\n",
    "def makePies(data: pd.DataFrame):\n",
    "    years = len(data.T.columns)\n",
    "    # fig, axes = plt.subplots(nrows=len(data.T.columns), figsize=(30,30))\n",
    "    for year_num in range(years):\n",
    "        year = data.T.columns[year_num]\n",
    "        df = getDFForPie(data, year, 2)\n",
    "        if df is None:\n",
    "            continue\n",
    "        # df.plot(ax=axes[year_num], kind='pie', autopct='%i%%', y=year, legend=False, subplots=True)\n",
    "        plt.figure(figsize=(40, 40))\n",
    "        df.plot(kind='pie', autopct='%i%%',\n",
    "                y=year, legend=False, subplots=True)\n"
   ]
  },
  {
   "cell_type": "code",
   "execution_count": null,
   "metadata": {},
   "outputs": [],
   "source": [
    "expenseM = transformByCat(expense_, 'M', K_CATEGORY)\n",
    "incomeM = transformByCat(income_, 'M', K_CATEGORY)\n",
    "incomeM_PC = transformByCat(income_, 'M', K_PARENT_CATEGORY)\n",
    "investM = transformByCat(invest_, 'M', K_ACCOUNT_RECEIVABLE)\n",
    "totalM = merge(expenseM, incomeM, investM)\n",
    "\n",
    "expenseY = transformByCat(expense_, 'Y', K_CATEGORY)\n",
    "incomeY = transformByCat(income_, 'Y', K_CATEGORY)\n",
    "incomeY_PC = transformByCat(income_, 'Y', K_PARENT_CATEGORY)\n",
    "investY = transformByCat(invest_, 'Y', K_ACCOUNT_RECEIVABLE)\n",
    "totalY = merge(expenseY, incomeY, investY)\n"
   ]
  },
  {
   "cell_type": "code",
   "execution_count": null,
   "metadata": {},
   "outputs": [],
   "source": [
    "incomeM_PC.loc[:, incomeM_PC.columns != K_TOTAL].plot()\n",
    "plt.grid(True)"
   ]
  },
  {
   "cell_type": "code",
   "execution_count": null,
   "metadata": {},
   "outputs": [],
   "source": [
    "totalM.loc[:, totalM.columns != K_TOTAL].plot()\n",
    "plt.grid(True)"
   ]
  },
  {
   "cell_type": "code",
   "execution_count": null,
   "metadata": {},
   "outputs": [],
   "source": [
    "ax = totalY.iloc[:, totalY.columns != K_TOTAL].plot(kind='bar')\n",
    "totalY[K_EXPENSE_SHARE].plot(ax=ax, secondary_y=True, color='r', ylim=(0,100))\n",
    "totalY[K_INVESTING_SHARE].plot(ax=ax, secondary_y=True, color='y', ylim=(0,100))\n",
    "plt.grid(True)"
   ]
  },
  {
   "cell_type": "code",
   "execution_count": null,
   "metadata": {},
   "outputs": [],
   "source": [
    "makePies(expenseY)"
   ]
  },
  {
   "cell_type": "code",
   "execution_count": null,
   "metadata": {},
   "outputs": [],
   "source": [
    "makePies(incomeY)"
   ]
  },
  {
   "cell_type": "code",
   "execution_count": null,
   "metadata": {},
   "outputs": [],
   "source": [
    "makePies(investY)"
   ]
  },
  {
   "cell_type": "code",
   "execution_count": null,
   "metadata": {},
   "outputs": [],
   "source": [
    "incomeY_PC.iloc[:, incomeY_PC.columns != K_TOTAL].plot(kind='barh', stacked=True)\n",
    "plt.grid(True)"
   ]
  },
  {
   "cell_type": "code",
   "execution_count": null,
   "metadata": {},
   "outputs": [],
   "source": [
    "totalM.loc[:, totalM.columns == K_TOTAL].plot()\n",
    "plt.grid(True)"
   ]
  },
  {
   "cell_type": "code",
   "execution_count": null,
   "metadata": {},
   "outputs": [],
   "source": [
    "total_income = totalY[K_INCOME].sum()\n",
    "total_expense = totalY[K_EXPENSE].sum()\n",
    "total_invest = totalY[K_INVESTING].sum()\n",
    "\n",
    "print(\"Total: {:,}\".format(total_income - total_expense))\n",
    "print(\"Free: {:,}\".format(total_income - total_expense - total_invest))\n",
    "print(\"Invested: {:,}\".format(total_invest))\n"
   ]
  }
 ],
 "metadata": {
  "kernelspec": {
   "display_name": "Python 3",
   "language": "python",
   "name": "python3"
  },
  "language_info": {
   "codemirror_mode": {
    "name": "ipython",
    "version": 3
   },
   "file_extension": ".py",
   "mimetype": "text/x-python",
   "name": "python",
   "nbconvert_exporter": "python",
   "pygments_lexer": "ipython3",
   "version": "3.9.0"
  },
  "orig_nbformat": 4
 },
 "nbformat": 4,
 "nbformat_minor": 2
}
